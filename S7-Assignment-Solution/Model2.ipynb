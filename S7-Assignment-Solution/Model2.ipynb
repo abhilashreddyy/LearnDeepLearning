{
 "cells": [
  {
   "cell_type": "markdown",
   "metadata": {},
   "source": [
    "CODE BLOCK: 1"
   ]
  },
  {
   "cell_type": "code",
   "execution_count": 1,
   "metadata": {},
   "outputs": [],
   "source": [
    "# !pip install torchsummary"
   ]
  },
  {
   "cell_type": "code",
   "execution_count": 2,
   "metadata": {},
   "outputs": [],
   "source": [
    "import torch\n",
    "import torch.nn as nn\n",
    "import torch.nn.functional as F\n",
    "import torch.optim as optim\n",
    "from torchvision import datasets, transforms\n",
    "from lib.models import Model2\n",
    "from lib.utils import model_summary\n",
    "from lib.utils import train, test"
   ]
  },
  {
   "cell_type": "markdown",
   "metadata": {},
   "source": [
    "CODE BLOCK: 2"
   ]
  },
  {
   "cell_type": "code",
   "execution_count": 3,
   "metadata": {},
   "outputs": [
    {
     "name": "stdout",
     "output_type": "stream",
     "text": [
      "CUDA Available? True\n"
     ]
    }
   ],
   "source": [
    "# CUDA?\n",
    "cuda = torch.cuda.is_available()\n",
    "print(\"CUDA Available?\", cuda)"
   ]
  },
  {
   "cell_type": "code",
   "execution_count": 4,
   "metadata": {},
   "outputs": [],
   "source": [
    "SEED = 1\n",
    "torch.manual_seed(SEED)\n",
    "if cuda:\n",
    "  torch.cuda.manual_seed(SEED)"
   ]
  },
  {
   "cell_type": "markdown",
   "metadata": {},
   "source": [
    "CODE BLOCK: 3"
   ]
  },
  {
   "cell_type": "code",
   "execution_count": 5,
   "metadata": {},
   "outputs": [
    {
     "name": "stderr",
     "output_type": "stream",
     "text": [
      "C:\\Users\\abhil\\AppData\\Local\\Packages\\PythonSoftwareFoundation.Python.3.11_qbz5n2kfra8p0\\LocalCache\\local-packages\\Python311\\site-packages\\torchvision\\datasets\\mnist.py:75: UserWarning: train_data has been renamed data\n",
      "  warnings.warn(\"train_data has been renamed data\")\n"
     ]
    },
    {
     "name": "stdout",
     "output_type": "stream",
     "text": [
      "[Train]\n",
      " - Numpy Shape: (60000, 28, 28)\n",
      " - Tensor Shape: torch.Size([60000, 28, 28])\n",
      " - min: tensor(0.)\n",
      " - max: tensor(1.)\n",
      " - mean: tensor(0.1307)\n",
      " - std: tensor(0.3081)\n",
      " - var: tensor(0.0949)\n"
     ]
    }
   ],
   "source": [
    "# simple transform\n",
    "simple_transforms = transforms.Compose([\n",
    "                                     transforms.ToTensor(), \n",
    "                                      ])\n",
    "exp = datasets.MNIST('./data', train=True, download=True, transform=simple_transforms)\n",
    "exp_data = exp.train_data\n",
    "exp_data = exp.transform(exp_data.numpy())\n",
    "\n",
    "print('[Train]')\n",
    "print(' - Numpy Shape:', exp.train_data.cpu().numpy().shape)\n",
    "print(' - Tensor Shape:', exp.train_data.size())\n",
    "print(' - min:', torch.min(exp_data))\n",
    "print(' - max:', torch.max(exp_data))\n",
    "print(' - mean:', torch.mean(exp_data))\n",
    "print(' - std:', torch.std(exp_data))\n",
    "print(' - var:', torch.var(exp_data))"
   ]
  },
  {
   "cell_type": "code",
   "execution_count": 6,
   "metadata": {},
   "outputs": [],
   "source": [
    "# Train data transformations\n",
    "train_transforms = transforms.Compose([\n",
    "    transforms.ToTensor(),\n",
    "    transforms.Normalize((0.1307,), (0.3081,)),\n",
    "    ])\n",
    "\n",
    "# Test data transformations\n",
    "test_transforms = transforms.Compose([\n",
    "    transforms.ToTensor(),\n",
    "    transforms.Normalize((0.1307,), (0.3081,))\n",
    "    ])"
   ]
  },
  {
   "cell_type": "markdown",
   "metadata": {},
   "source": [
    "CODE BLOCK: 4"
   ]
  },
  {
   "cell_type": "code",
   "execution_count": 7,
   "metadata": {},
   "outputs": [],
   "source": [
    "train_data = datasets.MNIST('../data', train=True, download=True, transform=train_transforms)\n",
    "test_data = datasets.MNIST('../data', train=False, download=True, transform=test_transforms)"
   ]
  },
  {
   "cell_type": "markdown",
   "metadata": {},
   "source": [
    "CODE BLOCK: 5"
   ]
  },
  {
   "cell_type": "code",
   "execution_count": 8,
   "metadata": {},
   "outputs": [],
   "source": [
    "batch_size = 128\n",
    "\n",
    "kwargs = {'batch_size': batch_size, 'shuffle': True, 'num_workers': 4, 'pin_memory': True}\n",
    "\n",
    "test_loader = torch.utils.data.DataLoader(test_data, **kwargs)\n",
    "train_loader = torch.utils.data.DataLoader(train_data, **kwargs)"
   ]
  },
  {
   "cell_type": "code",
   "execution_count": null,
   "metadata": {},
   "outputs": [],
   "source": [
    "dataiter = iter(train_loader)\n",
    "images, labels = next(dataiter)\n",
    "\n",
    "print(images.shape)\n",
    "print(labels.shape)\n",
    "%matplotlib inline\n",
    "import matplotlib.pyplot as plt\n",
    "\n",
    "plt.imshow(images[0].numpy().squeeze(), cmap='gray_r')"
   ]
  },
  {
   "cell_type": "markdown",
   "metadata": {},
   "source": [
    "CODE BLOCK: 6"
   ]
  },
  {
   "cell_type": "code",
   "execution_count": 9,
   "metadata": {},
   "outputs": [
    {
     "data": {
      "image/png": "[encoded data removed]",
      "text/plain": [
       "<Figure size 640x480 with 12 Axes>"
      ]
     },
     "metadata": {},
     "output_type": "display_data"
    }
   ],
   "source": [
    "import matplotlib.pyplot as plt\n",
    "\n",
    "batch_data, batch_label = next(iter(train_loader))\n",
    "\n",
    "fig = plt.figure()\n",
    "\n",
    "for i in range(12):\n",
    "  plt.subplot(3,4,i+1)\n",
    "  plt.tight_layout()\n",
    "  plt.imshow(batch_data[i].squeeze(0), cmap='gray')\n",
    "  plt.title(batch_label[i].item())\n",
    "  plt.xticks([])\n",
    "  plt.yticks([])"
   ]
  },
  {
   "cell_type": "markdown",
   "metadata": {},
   "source": [
    "CODE BLOCK: 7"
   ]
  },
  {
   "cell_type": "code",
   "execution_count": 10,
   "metadata": {},
   "outputs": [
    {
     "name": "stdout",
     "output_type": "stream",
     "text": [
      "----------------------------------------------------------------\n",
      "        Layer (type)               Output Shape         Param #\n",
      "================================================================\n",
      "            Conv2d-1           [-1, 10, 26, 26]              90\n",
      "       BatchNorm2d-2           [-1, 10, 26, 26]              20\n",
      "              ReLU-3           [-1, 10, 26, 26]               0\n",
      "           Dropout-4           [-1, 10, 26, 26]               0\n",
      "            Conv2d-5           [-1, 12, 24, 24]           1,080\n",
      "       BatchNorm2d-6           [-1, 12, 24, 24]              24\n",
      "              ReLU-7           [-1, 12, 24, 24]               0\n",
      "           Dropout-8           [-1, 12, 24, 24]               0\n",
      "            Conv2d-9           [-1, 14, 22, 22]           1,512\n",
      "      BatchNorm2d-10           [-1, 14, 22, 22]              28\n",
      "             ReLU-11           [-1, 14, 22, 22]               0\n",
      "          Dropout-12           [-1, 14, 22, 22]               0\n",
      "        MaxPool2d-13           [-1, 14, 11, 11]               0\n",
      "           Conv2d-14           [-1, 10, 11, 11]             140\n",
      "      BatchNorm2d-15           [-1, 10, 11, 11]              20\n",
      "             ReLU-16           [-1, 10, 11, 11]               0\n",
      "          Dropout-17           [-1, 10, 11, 11]               0\n",
      "           Conv2d-18             [-1, 16, 9, 9]           1,440\n",
      "      BatchNorm2d-19             [-1, 16, 9, 9]              32\n",
      "             ReLU-20             [-1, 16, 9, 9]               0\n",
      "          Dropout-21             [-1, 16, 9, 9]               0\n",
      "           Conv2d-22             [-1, 20, 7, 7]           2,880\n",
      "      BatchNorm2d-23             [-1, 20, 7, 7]              40\n",
      "             ReLU-24             [-1, 20, 7, 7]               0\n",
      "          Dropout-25             [-1, 20, 7, 7]               0\n",
      "           Conv2d-26             [-1, 20, 5, 5]           3,600\n",
      "      BatchNorm2d-27             [-1, 20, 5, 5]              40\n",
      "             ReLU-28             [-1, 20, 5, 5]               0\n",
      "          Dropout-29             [-1, 20, 5, 5]               0\n",
      "           Conv2d-30             [-1, 10, 5, 5]             200\n",
      "        AvgPool2d-31             [-1, 10, 1, 1]               0\n",
      "================================================================\n",
      "Total params: 11,146\n",
      "Trainable params: 11,146\n",
      "Non-trainable params: 0\n",
      "----------------------------------------------------------------\n",
      "Input size (MB): 0.00\n",
      "Forward/backward pass size (MB): 0.76\n",
      "Params size (MB): 0.04\n",
      "Estimated Total Size (MB): 0.81\n",
      "----------------------------------------------------------------\n"
     ]
    }
   ],
   "source": [
    "model_summary(Model2())\n"
   ]
  },
  {
   "cell_type": "markdown",
   "metadata": {},
   "source": [
    "CODE BLOCK: 8"
   ]
  },
  {
   "cell_type": "code",
   "execution_count": 11,
   "metadata": {},
   "outputs": [
    {
     "name": "stderr",
     "output_type": "stream",
     "text": [
      "C:\\Users\\abhil\\AppData\\Local\\Packages\\PythonSoftwareFoundation.Python.3.11_qbz5n2kfra8p0\\LocalCache\\local-packages\\Python311\\site-packages\\torch\\optim\\lr_scheduler.py:28: UserWarning: The verbose parameter is deprecated. Please use get_last_lr() to access the learning rate.\n",
      "  warnings.warn(\"The verbose parameter is deprecated. Please use get_last_lr() \"\n"
     ]
    },
    {
     "name": "stdout",
     "output_type": "stream",
     "text": [
      "Epoch 1\n"
     ]
    },
    {
     "name": "stderr",
     "output_type": "stream",
     "text": [
      "Train: Loss=0.1651 Batch_id=468 Accuracy=81.98: 100%|██████████| 469/469 [00:58<00:00,  8.03it/s]\n"
     ]
    },
    {
     "name": "stdout",
     "output_type": "stream",
     "text": [
      "Test set: Average loss: 0.1011, Accuracy: 9770/10000 (97.70%)\n",
      "\n",
      "Epoch 2\n"
     ]
    },
    {
     "name": "stderr",
     "output_type": "stream",
     "text": [
      "Train: Loss=0.0517 Batch_id=468 Accuracy=97.23: 100%|██████████| 469/469 [00:32<00:00, 14.49it/s]\n"
     ]
    },
    {
     "name": "stdout",
     "output_type": "stream",
     "text": [
      "Test set: Average loss: 0.0587, Accuracy: 9841/10000 (98.41%)\n",
      "\n",
      "Epoch 3\n"
     ]
    },
    {
     "name": "stderr",
     "output_type": "stream",
     "text": [
      "Train: Loss=0.0572 Batch_id=468 Accuracy=97.85: 100%|██████████| 469/469 [00:28<00:00, 16.46it/s]\n"
     ]
    },
    {
     "name": "stdout",
     "output_type": "stream",
     "text": [
      "Test set: Average loss: 0.0462, Accuracy: 9863/10000 (98.63%)\n",
      "\n",
      "Epoch 4\n"
     ]
    },
    {
     "name": "stderr",
     "output_type": "stream",
     "text": [
      "Train: Loss=0.0764 Batch_id=468 Accuracy=98.20: 100%|██████████| 469/469 [00:16<00:00, 27.86it/s]\n"
     ]
    },
    {
     "name": "stdout",
     "output_type": "stream",
     "text": [
      "Test set: Average loss: 0.0430, Accuracy: 9879/10000 (98.79%)\n",
      "\n",
      "Epoch 5\n"
     ]
    },
    {
     "name": "stderr",
     "output_type": "stream",
     "text": [
      "Train: Loss=0.0276 Batch_id=468 Accuracy=98.33: 100%|██████████| 469/469 [00:26<00:00, 17.79it/s]\n"
     ]
    },
    {
     "name": "stdout",
     "output_type": "stream",
     "text": [
      "Test set: Average loss: 0.0341, Accuracy: 9904/10000 (99.04%)\n",
      "\n",
      "Epoch 6\n"
     ]
    },
    {
     "name": "stderr",
     "output_type": "stream",
     "text": [
      "Train: Loss=0.0394 Batch_id=468 Accuracy=98.45: 100%|██████████| 469/469 [00:22<00:00, 20.73it/s]\n"
     ]
    },
    {
     "name": "stdout",
     "output_type": "stream",
     "text": [
      "Test set: Average loss: 0.0335, Accuracy: 9904/10000 (99.04%)\n",
      "\n",
      "Epoch 7\n"
     ]
    },
    {
     "name": "stderr",
     "output_type": "stream",
     "text": [
      "Train: Loss=0.0187 Batch_id=468 Accuracy=98.62: 100%|██████████| 469/469 [00:28<00:00, 16.52it/s]\n"
     ]
    },
    {
     "name": "stdout",
     "output_type": "stream",
     "text": [
      "Test set: Average loss: 0.0298, Accuracy: 9912/10000 (99.12%)\n",
      "\n",
      "Epoch 8\n"
     ]
    },
    {
     "name": "stderr",
     "output_type": "stream",
     "text": [
      "Train: Loss=0.0398 Batch_id=468 Accuracy=98.67: 100%|██████████| 469/469 [00:21<00:00, 21.60it/s]\n"
     ]
    },
    {
     "name": "stdout",
     "output_type": "stream",
     "text": [
      "Test set: Average loss: 0.0278, Accuracy: 9918/10000 (99.18%)\n",
      "\n",
      "Epoch 9\n"
     ]
    },
    {
     "name": "stderr",
     "output_type": "stream",
     "text": [
      "Train: Loss=0.1033 Batch_id=468 Accuracy=98.69: 100%|██████████| 469/469 [00:19<00:00, 23.97it/s]\n"
     ]
    },
    {
     "name": "stdout",
     "output_type": "stream",
     "text": [
      "Test set: Average loss: 0.0319, Accuracy: 9907/10000 (99.07%)\n",
      "\n",
      "Epoch 10\n"
     ]
    },
    {
     "name": "stderr",
     "output_type": "stream",
     "text": [
      "Train: Loss=0.0431 Batch_id=468 Accuracy=98.78: 100%|██████████| 469/469 [00:20<00:00, 22.54it/s]\n"
     ]
    },
    {
     "name": "stdout",
     "output_type": "stream",
     "text": [
      "Test set: Average loss: 0.0271, Accuracy: 9923/10000 (99.23%)\n",
      "\n",
      "Epoch 11\n"
     ]
    },
    {
     "name": "stderr",
     "output_type": "stream",
     "text": [
      "Train: Loss=0.0450 Batch_id=468 Accuracy=98.90: 100%|██████████| 469/469 [00:22<00:00, 20.51it/s]\n"
     ]
    },
    {
     "name": "stdout",
     "output_type": "stream",
     "text": [
      "Test set: Average loss: 0.0256, Accuracy: 9921/10000 (99.21%)\n",
      "\n",
      "Epoch 12\n"
     ]
    },
    {
     "name": "stderr",
     "output_type": "stream",
     "text": [
      "Train: Loss=0.0035 Batch_id=468 Accuracy=98.88: 100%|██████████| 469/469 [00:21<00:00, 21.36it/s]\n"
     ]
    },
    {
     "name": "stdout",
     "output_type": "stream",
     "text": [
      "Test set: Average loss: 0.0281, Accuracy: 9918/10000 (99.18%)\n",
      "\n",
      "Epoch 13\n"
     ]
    },
    {
     "name": "stderr",
     "output_type": "stream",
     "text": [
      "Train: Loss=0.0477 Batch_id=468 Accuracy=98.88: 100%|██████████| 469/469 [00:15<00:00, 30.19it/s]\n"
     ]
    },
    {
     "name": "stdout",
     "output_type": "stream",
     "text": [
      "Test set: Average loss: 0.0252, Accuracy: 9924/10000 (99.24%)\n",
      "\n",
      "Epoch 14\n"
     ]
    },
    {
     "name": "stderr",
     "output_type": "stream",
     "text": [
      "Train: Loss=0.0166 Batch_id=468 Accuracy=98.91: 100%|██████████| 469/469 [00:15<00:00, 30.82it/s]\n"
     ]
    },
    {
     "name": "stdout",
     "output_type": "stream",
     "text": [
      "Test set: Average loss: 0.0250, Accuracy: 9930/10000 (99.30%)\n",
      "\n",
      "Epoch 15\n"
     ]
    },
    {
     "name": "stderr",
     "output_type": "stream",
     "text": [
      "Train: Loss=0.0162 Batch_id=468 Accuracy=99.00: 100%|██████████| 469/469 [00:15<00:00, 29.75it/s]\n"
     ]
    },
    {
     "name": "stdout",
     "output_type": "stream",
     "text": [
      "Test set: Average loss: 0.0253, Accuracy: 9927/10000 (99.27%)\n",
      "\n",
      "Epoch 16\n"
     ]
    },
    {
     "name": "stderr",
     "output_type": "stream",
     "text": [
      "Train: Loss=0.0422 Batch_id=468 Accuracy=99.02: 100%|██████████| 469/469 [00:21<00:00, 21.52it/s]\n"
     ]
    },
    {
     "name": "stdout",
     "output_type": "stream",
     "text": [
      "Test set: Average loss: 0.0245, Accuracy: 9924/10000 (99.24%)\n",
      "\n",
      "Epoch 17\n"
     ]
    },
    {
     "name": "stderr",
     "output_type": "stream",
     "text": [
      "Train: Loss=0.0078 Batch_id=468 Accuracy=99.02: 100%|██████████| 469/469 [00:25<00:00, 18.36it/s]\n"
     ]
    },
    {
     "name": "stdout",
     "output_type": "stream",
     "text": [
      "Test set: Average loss: 0.0233, Accuracy: 9923/10000 (99.23%)\n",
      "\n",
      "Epoch 18\n"
     ]
    },
    {
     "name": "stderr",
     "output_type": "stream",
     "text": [
      "Train: Loss=0.0197 Batch_id=468 Accuracy=99.03: 100%|██████████| 469/469 [00:42<00:00, 11.12it/s]\n"
     ]
    },
    {
     "name": "stdout",
     "output_type": "stream",
     "text": [
      "Test set: Average loss: 0.0231, Accuracy: 9929/10000 (99.29%)\n",
      "\n",
      "Epoch 19\n"
     ]
    },
    {
     "name": "stderr",
     "output_type": "stream",
     "text": [
      "Train: Loss=0.0193 Batch_id=468 Accuracy=99.08: 100%|██████████| 469/469 [01:14<00:00,  6.33it/s]\n"
     ]
    },
    {
     "name": "stdout",
     "output_type": "stream",
     "text": [
      "Test set: Average loss: 0.0211, Accuracy: 9932/10000 (99.32%)\n",
      "\n",
      "Epoch 20\n"
     ]
    },
    {
     "name": "stderr",
     "output_type": "stream",
     "text": [
      "Train: Loss=0.0448 Batch_id=468 Accuracy=99.02: 100%|██████████| 469/469 [01:01<00:00,  7.62it/s]\n"
     ]
    },
    {
     "name": "stdout",
     "output_type": "stream",
     "text": [
      "Test set: Average loss: 0.0238, Accuracy: 9922/10000 (99.22%)\n",
      "\n"
     ]
    }
   ],
   "source": [
    "use_cuda = True\n",
    "device = torch.device(\"cuda\" if use_cuda else \"cpu\")\n",
    "model = Model2().to(device)\n",
    "optimizer = optim.SGD(model.parameters(), lr=0.01, momentum=0.9)\n",
    "scheduler = optim.lr_scheduler.StepLR(optimizer, step_size=20, gamma=0.1, verbose=True)\n",
    "# New Line\n",
    "criterion = F.nll_loss\n",
    "num_epochs = 20\n",
    "\n",
    "for epoch in range(1, num_epochs+1):\n",
    "  print(f'Epoch {epoch}')\n",
    "  train(model, device, train_loader, optimizer, criterion)\n",
    "  test(model, device, test_loader, criterion)\n",
    "  scheduler.step()"
   ]
  },
  {
   "cell_type": "markdown",
   "metadata": {},
   "source": [
    "CODE BLOCK: 9"
   ]
  },
  {
   "cell_type": "code",
   "execution_count": 12,
   "metadata": {},
   "outputs": [
    {
     "data": {
      "image/png": "[encoded data removed]",
      "text/plain": [
       "<Figure size 1500x1000 with 4 Axes>"
      ]
     },
     "metadata": {},
     "output_type": "display_data"
    }
   ],
   "source": [
    "from lib.utils import plot_training\n",
    "plot_training()"
   ]
  },
  {
   "cell_type": "code",
   "execution_count": 13,
   "metadata": {},
   "outputs": [
    {
     "name": "stdout",
     "output_type": "stream",
     "text": [
      "----------------------------------------------------------------\n",
      "        Layer (type)               Output Shape         Param #\n",
      "================================================================\n",
      "            Conv2d-1           [-1, 10, 26, 26]              90\n",
      "       BatchNorm2d-2           [-1, 10, 26, 26]              20\n",
      "              ReLU-3           [-1, 10, 26, 26]               0\n",
      "           Dropout-4           [-1, 10, 26, 26]               0\n",
      "            Conv2d-5           [-1, 12, 24, 24]           1,080\n",
      "       BatchNorm2d-6           [-1, 12, 24, 24]              24\n",
      "              ReLU-7           [-1, 12, 24, 24]               0\n",
      "           Dropout-8           [-1, 12, 24, 24]               0\n",
      "            Conv2d-9           [-1, 14, 22, 22]           1,512\n",
      "      BatchNorm2d-10           [-1, 14, 22, 22]              28\n",
      "             ReLU-11           [-1, 14, 22, 22]               0\n",
      "          Dropout-12           [-1, 14, 22, 22]               0\n",
      "        MaxPool2d-13           [-1, 14, 11, 11]               0\n",
      "           Conv2d-14           [-1, 10, 11, 11]             140\n",
      "      BatchNorm2d-15           [-1, 10, 11, 11]              20\n",
      "             ReLU-16           [-1, 10, 11, 11]               0\n",
      "          Dropout-17           [-1, 10, 11, 11]               0\n",
      "           Conv2d-18             [-1, 16, 9, 9]           1,440\n",
      "      BatchNorm2d-19             [-1, 16, 9, 9]              32\n",
      "             ReLU-20             [-1, 16, 9, 9]               0\n",
      "          Dropout-21             [-1, 16, 9, 9]               0\n",
      "           Conv2d-22             [-1, 20, 7, 7]           2,880\n",
      "      BatchNorm2d-23             [-1, 20, 7, 7]              40\n",
      "             ReLU-24             [-1, 20, 7, 7]               0\n",
      "          Dropout-25             [-1, 20, 7, 7]               0\n",
      "           Conv2d-26             [-1, 20, 5, 5]           3,600\n",
      "      BatchNorm2d-27             [-1, 20, 5, 5]              40\n",
      "             ReLU-28             [-1, 20, 5, 5]               0\n",
      "          Dropout-29             [-1, 20, 5, 5]               0\n",
      "           Conv2d-30             [-1, 10, 5, 5]             200\n",
      "        AvgPool2d-31             [-1, 10, 1, 1]               0\n",
      "================================================================\n",
      "Total params: 11,146\n",
      "Trainable params: 11,146\n",
      "Non-trainable params: 0\n",
      "----------------------------------------------------------------\n",
      "Input size (MB): 0.00\n",
      "Forward/backward pass size (MB): 0.76\n",
      "Params size (MB): 0.04\n",
      "Estimated Total Size (MB): 0.81\n",
      "----------------------------------------------------------------\n"
     ]
    }
   ],
   "source": [
    "model_summary(Model2())"
   ]
  },
  {
   "cell_type": "code",
   "execution_count": null,
   "metadata": {},
   "outputs": [],
   "source": []
  }
 ],
 "metadata": {
  "kernelspec": {
   "display_name": "Python 3",
   "language": "python",
   "name": "python3"
  },
  "language_info": {
   "codemirror_mode": {
    "name": "ipython",
    "version": 3
   },
   "file_extension": ".py",
   "mimetype": "text/x-python",
   "name": "python",
   "nbconvert_exporter": "python",
   "pygments_lexer": "ipython3",
   "version": "3.11.8"
  }
 },
 "nbformat": 4,
 "nbformat_minor": 2
}
