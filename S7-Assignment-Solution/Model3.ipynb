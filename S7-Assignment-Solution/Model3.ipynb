{
 "cells": [
  {
   "cell_type": "markdown",
   "metadata": {},
   "source": [
    "CODE BLOCK: 1"
   ]
  },
  {
   "cell_type": "code",
   "execution_count": 1,
   "metadata": {},
   "outputs": [],
   "source": [
    "# !pip install torchsummary"
   ]
  },
  {
   "cell_type": "code",
   "execution_count": 2,
   "metadata": {},
   "outputs": [],
   "source": [
    "import torch\n",
    "import torch.nn as nn\n",
    "import torch.nn.functional as F\n",
    "import torch.optim as optim\n",
    "from torchvision import datasets, transforms\n",
    "from lib.models import Model3\n",
    "from lib.utils import model_summary\n",
    "from lib.utils import train, test\n",
    "from torch.optim.lr_scheduler import ReduceLROnPlateau"
   ]
  },
  {
   "cell_type": "markdown",
   "metadata": {},
   "source": [
    "CODE BLOCK: 2"
   ]
  },
  {
   "cell_type": "code",
   "execution_count": 3,
   "metadata": {},
   "outputs": [
    {
     "name": "stdout",
     "output_type": "stream",
     "text": [
      "CUDA Available? True\n"
     ]
    }
   ],
   "source": [
    "# CUDA?\n",
    "cuda = torch.cuda.is_available()\n",
    "print(\"CUDA Available?\", cuda)"
   ]
  },
  {
   "cell_type": "code",
   "execution_count": 4,
   "metadata": {},
   "outputs": [],
   "source": [
    "SEED = 1\n",
    "torch.manual_seed(SEED)\n",
    "if cuda:\n",
    "  torch.cuda.manual_seed(SEED)"
   ]
  },
  {
   "cell_type": "markdown",
   "metadata": {},
   "source": [
    "CODE BLOCK: 3"
   ]
  },
  {
   "cell_type": "code",
   "execution_count": 5,
   "metadata": {},
   "outputs": [
    {
     "name": "stderr",
     "output_type": "stream",
     "text": [
      "C:\\Users\\abhil\\AppData\\Local\\Packages\\PythonSoftwareFoundation.Python.3.11_qbz5n2kfra8p0\\LocalCache\\local-packages\\Python311\\site-packages\\torchvision\\datasets\\mnist.py:75: UserWarning: train_data has been renamed data\n",
      "  warnings.warn(\"train_data has been renamed data\")\n"
     ]
    },
    {
     "name": "stdout",
     "output_type": "stream",
     "text": [
      "[Train]\n",
      " - Numpy Shape: (60000, 28, 28)\n",
      " - Tensor Shape: torch.Size([60000, 28, 28])\n",
      " - min: tensor(0.)\n",
      " - max: tensor(1.)\n",
      " - mean: tensor(0.1307)\n",
      " - std: tensor(0.3081)\n",
      " - var: tensor(0.0949)\n"
     ]
    }
   ],
   "source": [
    "# simple transform\n",
    "simple_transforms = transforms.Compose([\n",
    "                                     transforms.ToTensor(), \n",
    "                                      ])\n",
    "exp = datasets.MNIST('./data', train=True, download=True, transform=simple_transforms)\n",
    "exp_data = exp.train_data\n",
    "exp_data = exp.transform(exp_data.numpy())\n",
    "\n",
    "print('[Train]')\n",
    "print(' - Numpy Shape:', exp.train_data.cpu().numpy().shape)\n",
    "print(' - Tensor Shape:', exp.train_data.size())\n",
    "print(' - min:', torch.min(exp_data))\n",
    "print(' - max:', torch.max(exp_data))\n",
    "print(' - mean:', torch.mean(exp_data))\n",
    "print(' - std:', torch.std(exp_data))\n",
    "print(' - var:', torch.var(exp_data))"
   ]
  },
  {
   "cell_type": "code",
   "execution_count": 6,
   "metadata": {},
   "outputs": [],
   "source": [
    "# Train data transformations\n",
    "train_transforms = transforms.Compose([\n",
    "    transforms.RandomApply([transforms.CenterCrop(22), ], p=0.1),\n",
    "    transforms.Resize((28, 28)),\n",
    "    transforms.RandomChoice([\n",
    "        transforms.RandomRotation(degrees=(-15, 15)),  # Apply random rotation between -15 and 15 degrees\n",
    "        transforms.RandomAffine(degrees=0, shear=(-10, 10)),  # Apply random shear between -10 and 10 degrees\n",
    "    ]),\n",
    "    transforms.ToTensor(),\n",
    "    transforms.Normalize((0.1307,), (0.3081,))\n",
    "])\n",
    "\n",
    "# Test data transformations\n",
    "test_transforms = transforms.Compose([\n",
    "    transforms.ToTensor(),\n",
    "    transforms.Normalize((0.1307,), (0.3081,))\n",
    "    ])"
   ]
  },
  {
   "cell_type": "markdown",
   "metadata": {},
   "source": [
    "CODE BLOCK: 4"
   ]
  },
  {
   "cell_type": "code",
   "execution_count": 7,
   "metadata": {},
   "outputs": [],
   "source": [
    "train_data = datasets.MNIST('../data', train=True, download=True, transform=train_transforms)\n",
    "test_data = datasets.MNIST('../data', train=False, download=True, transform=test_transforms)"
   ]
  },
  {
   "cell_type": "markdown",
   "metadata": {},
   "source": [
    "CODE BLOCK: 5"
   ]
  },
  {
   "cell_type": "code",
   "execution_count": 8,
   "metadata": {},
   "outputs": [],
   "source": [
    "batch_size = 128\n",
    "\n",
    "kwargs = {'batch_size': batch_size, 'shuffle': True, 'num_workers': 4, 'pin_memory': True}\n",
    "\n",
    "test_loader = torch.utils.data.DataLoader(test_data, **kwargs)\n",
    "train_loader = torch.utils.data.DataLoader(train_data, **kwargs)"
   ]
  },
  {
   "cell_type": "code",
   "execution_count": null,
   "metadata": {},
   "outputs": [],
   "source": [
    "dataiter = iter(train_loader)\n",
    "images, labels = next(dataiter)\n",
    "\n",
    "print(images.shape)\n",
    "print(labels.shape)\n",
    "%matplotlib inline\n",
    "import matplotlib.pyplot as plt\n",
    "\n",
    "plt.imshow(images[0].numpy().squeeze(), cmap='gray_r')"
   ]
  },
  {
   "cell_type": "markdown",
   "metadata": {},
   "source": [
    "CODE BLOCK: 6"
   ]
  },
  {
   "cell_type": "code",
   "execution_count": 9,
   "metadata": {},
   "outputs": [
    {
     "data": {
      "image/png": "[encoded data removed]",
      "text/plain": [
       "<Figure size 640x480 with 12 Axes>"
      ]
     },
     "metadata": {},
     "output_type": "display_data"
    }
   ],
   "source": [
    "import matplotlib.pyplot as plt\n",
    "\n",
    "batch_data, batch_label = next(iter(train_loader))\n",
    "\n",
    "fig = plt.figure()\n",
    "\n",
    "for i in range(12):\n",
    "  plt.subplot(3,4,i+1)\n",
    "  plt.tight_layout()\n",
    "  plt.imshow(batch_data[i].squeeze(0), cmap='gray')\n",
    "  plt.title(batch_label[i].item())\n",
    "  plt.xticks([])\n",
    "  plt.yticks([])"
   ]
  },
  {
   "cell_type": "markdown",
   "metadata": {},
   "source": [
    "CODE BLOCK: 7"
   ]
  },
  {
   "cell_type": "code",
   "execution_count": 10,
   "metadata": {},
   "outputs": [
    {
     "name": "stdout",
     "output_type": "stream",
     "text": [
      "----------------------------------------------------------------\n",
      "        Layer (type)               Output Shape         Param #\n",
      "================================================================\n",
      "            Conv2d-1           [-1, 10, 26, 26]              90\n",
      "       BatchNorm2d-2           [-1, 10, 26, 26]              20\n",
      "              ReLU-3           [-1, 10, 26, 26]               0\n",
      "           Dropout-4           [-1, 10, 26, 26]               0\n",
      "            Conv2d-5           [-1, 12, 24, 24]           1,080\n",
      "       BatchNorm2d-6           [-1, 12, 24, 24]              24\n",
      "              ReLU-7           [-1, 12, 24, 24]               0\n",
      "           Dropout-8           [-1, 12, 24, 24]               0\n",
      "            Conv2d-9            [-1, 8, 24, 24]              96\n",
      "      BatchNorm2d-10            [-1, 8, 24, 24]              16\n",
      "             ReLU-11            [-1, 8, 24, 24]               0\n",
      "          Dropout-12            [-1, 8, 24, 24]               0\n",
      "        MaxPool2d-13            [-1, 8, 12, 12]               0\n",
      "           Conv2d-14           [-1, 12, 10, 10]             864\n",
      "      BatchNorm2d-15           [-1, 12, 10, 10]              24\n",
      "             ReLU-16           [-1, 12, 10, 10]               0\n",
      "          Dropout-17           [-1, 12, 10, 10]               0\n",
      "           Conv2d-18             [-1, 14, 8, 8]           1,512\n",
      "      BatchNorm2d-19             [-1, 14, 8, 8]              28\n",
      "             ReLU-20             [-1, 14, 8, 8]               0\n",
      "          Dropout-21             [-1, 14, 8, 8]               0\n",
      "           Conv2d-22             [-1, 14, 6, 6]           1,764\n",
      "      BatchNorm2d-23             [-1, 14, 6, 6]              28\n",
      "             ReLU-24             [-1, 14, 6, 6]               0\n",
      "          Dropout-25             [-1, 14, 6, 6]               0\n",
      "           Conv2d-26             [-1, 17, 4, 4]           2,142\n",
      "      BatchNorm2d-27             [-1, 17, 4, 4]              34\n",
      "             ReLU-28             [-1, 17, 4, 4]               0\n",
      "          Dropout-29             [-1, 17, 4, 4]               0\n",
      "           Conv2d-30             [-1, 10, 4, 4]             170\n",
      "        AvgPool2d-31             [-1, 10, 1, 1]               0\n",
      "================================================================\n",
      "Total params: 7,892\n",
      "Trainable params: 7,892\n",
      "Non-trainable params: 0\n",
      "----------------------------------------------------------------\n",
      "Input size (MB): 0.00\n",
      "Forward/backward pass size (MB): 0.66\n",
      "Params size (MB): 0.03\n",
      "Estimated Total Size (MB): 0.69\n",
      "----------------------------------------------------------------\n"
     ]
    }
   ],
   "source": [
    "model_summary(Model3())\n"
   ]
  },
  {
   "cell_type": "markdown",
   "metadata": {},
   "source": [
    "CODE BLOCK: 8"
   ]
  },
  {
   "cell_type": "code",
   "execution_count": 11,
   "metadata": {},
   "outputs": [
    {
     "name": "stderr",
     "output_type": "stream",
     "text": [
      "C:\\Users\\abhil\\AppData\\Local\\Packages\\PythonSoftwareFoundation.Python.3.11_qbz5n2kfra8p0\\LocalCache\\local-packages\\Python311\\site-packages\\torch\\optim\\lr_scheduler.py:28: UserWarning: The verbose parameter is deprecated. Please use get_last_lr() to access the learning rate.\n",
      "  warnings.warn(\"The verbose parameter is deprecated. Please use get_last_lr() \"\n"
     ]
    },
    {
     "name": "stdout",
     "output_type": "stream",
     "text": [
      "Epoch 1\n"
     ]
    },
    {
     "name": "stderr",
     "output_type": "stream",
     "text": [
      "  0%|          | 0/469 [00:00<?, ?it/s]"
     ]
    },
    {
     "name": "stderr",
     "output_type": "stream",
     "text": [
      "Train: Loss=0.1180 Batch_id=468 Accuracy=85.46: 100%|██████████| 469/469 [00:11<00:00, 39.65it/s]\n"
     ]
    },
    {
     "name": "stdout",
     "output_type": "stream",
     "text": [
      "Test set: Average loss: 0.0897, Accuracy: 9772/10000 (97.72%)\n",
      "\n",
      "Learning rate: 0.01\n",
      "Epoch 2\n"
     ]
    },
    {
     "name": "stderr",
     "output_type": "stream",
     "text": [
      "Train: Loss=0.1024 Batch_id=468 Accuracy=96.91: 100%|██████████| 469/469 [00:08<00:00, 54.74it/s] \n"
     ]
    },
    {
     "name": "stdout",
     "output_type": "stream",
     "text": [
      "Test set: Average loss: 0.0444, Accuracy: 9872/10000 (98.72%)\n",
      "\n",
      "Learning rate: 0.01\n",
      "Epoch 3\n"
     ]
    },
    {
     "name": "stderr",
     "output_type": "stream",
     "text": [
      "Train: Loss=0.1511 Batch_id=468 Accuracy=97.65: 100%|██████████| 469/469 [00:08<00:00, 52.32it/s] \n"
     ]
    },
    {
     "name": "stdout",
     "output_type": "stream",
     "text": [
      "Test set: Average loss: 0.0376, Accuracy: 9895/10000 (98.95%)\n",
      "\n",
      "Learning rate: 0.01\n",
      "Epoch 4\n"
     ]
    },
    {
     "name": "stderr",
     "output_type": "stream",
     "text": [
      "Train: Loss=0.0569 Batch_id=468 Accuracy=97.91: 100%|██████████| 469/469 [00:08<00:00, 52.29it/s] \n"
     ]
    },
    {
     "name": "stdout",
     "output_type": "stream",
     "text": [
      "Test set: Average loss: 0.0397, Accuracy: 9880/10000 (98.80%)\n",
      "\n",
      "Learning rate: 0.01\n",
      "Epoch 5\n"
     ]
    },
    {
     "name": "stderr",
     "output_type": "stream",
     "text": [
      "Train: Loss=0.1473 Batch_id=468 Accuracy=98.16: 100%|██████████| 469/469 [00:09<00:00, 49.67it/s]\n"
     ]
    },
    {
     "name": "stdout",
     "output_type": "stream",
     "text": [
      "Test set: Average loss: 0.0331, Accuracy: 9904/10000 (99.04%)\n",
      "\n",
      "Learning rate: 0.01\n",
      "Epoch 6\n"
     ]
    },
    {
     "name": "stderr",
     "output_type": "stream",
     "text": [
      "Train: Loss=0.0387 Batch_id=468 Accuracy=98.25: 100%|██████████| 469/469 [00:09<00:00, 50.59it/s] \n"
     ]
    },
    {
     "name": "stdout",
     "output_type": "stream",
     "text": [
      "Test set: Average loss: 0.0345, Accuracy: 9895/10000 (98.95%)\n",
      "\n",
      "Learning rate: 0.01\n",
      "Epoch 7\n"
     ]
    },
    {
     "name": "stderr",
     "output_type": "stream",
     "text": [
      "Train: Loss=0.0580 Batch_id=468 Accuracy=98.36: 100%|██████████| 469/469 [00:09<00:00, 49.11it/s]\n"
     ]
    },
    {
     "name": "stdout",
     "output_type": "stream",
     "text": [
      "Test set: Average loss: 0.0246, Accuracy: 9932/10000 (99.32%)\n",
      "\n",
      "Learning rate: 0.01\n",
      "Epoch 8\n"
     ]
    },
    {
     "name": "stderr",
     "output_type": "stream",
     "text": [
      "Train: Loss=0.0352 Batch_id=468 Accuracy=98.40: 100%|██████████| 469/469 [00:10<00:00, 46.09it/s]\n"
     ]
    },
    {
     "name": "stdout",
     "output_type": "stream",
     "text": [
      "Test set: Average loss: 0.0244, Accuracy: 9932/10000 (99.32%)\n",
      "\n",
      "Learning rate: 0.01\n",
      "Epoch 9\n"
     ]
    },
    {
     "name": "stderr",
     "output_type": "stream",
     "text": [
      "Train: Loss=0.0322 Batch_id=468 Accuracy=98.54: 100%|██████████| 469/469 [00:12<00:00, 37.12it/s]\n"
     ]
    },
    {
     "name": "stdout",
     "output_type": "stream",
     "text": [
      "Test set: Average loss: 0.0241, Accuracy: 9919/10000 (99.19%)\n",
      "\n",
      "Learning rate: 0.01\n",
      "Epoch 10\n"
     ]
    },
    {
     "name": "stderr",
     "output_type": "stream",
     "text": [
      "Train: Loss=0.0225 Batch_id=468 Accuracy=98.69: 100%|██████████| 469/469 [00:13<00:00, 34.78it/s]\n"
     ]
    },
    {
     "name": "stdout",
     "output_type": "stream",
     "text": [
      "Test set: Average loss: 0.0200, Accuracy: 9942/10000 (99.42%)\n",
      "\n",
      "Learning rate: 0.005\n",
      "Epoch 11\n"
     ]
    },
    {
     "name": "stderr",
     "output_type": "stream",
     "text": [
      "Train: Loss=0.0505 Batch_id=468 Accuracy=98.66: 100%|██████████| 469/469 [00:13<00:00, 34.72it/s]\n"
     ]
    },
    {
     "name": "stdout",
     "output_type": "stream",
     "text": [
      "Test set: Average loss: 0.0212, Accuracy: 9942/10000 (99.42%)\n",
      "\n",
      "Learning rate: 0.005\n",
      "Epoch 12\n"
     ]
    },
    {
     "name": "stderr",
     "output_type": "stream",
     "text": [
      "Train: Loss=0.0281 Batch_id=468 Accuracy=98.77: 100%|██████████| 469/469 [00:13<00:00, 34.06it/s]\n"
     ]
    },
    {
     "name": "stdout",
     "output_type": "stream",
     "text": [
      "Test set: Average loss: 0.0206, Accuracy: 9940/10000 (99.40%)\n",
      "\n",
      "Learning rate: 0.005\n",
      "Epoch 13\n"
     ]
    },
    {
     "name": "stderr",
     "output_type": "stream",
     "text": [
      "Train: Loss=0.0649 Batch_id=468 Accuracy=98.83: 100%|██████████| 469/469 [00:14<00:00, 32.19it/s]\n"
     ]
    },
    {
     "name": "stdout",
     "output_type": "stream",
     "text": [
      "Test set: Average loss: 0.0200, Accuracy: 9943/10000 (99.43%)\n",
      "\n",
      "Learning rate: 0.0025\n",
      "Epoch 14\n"
     ]
    },
    {
     "name": "stderr",
     "output_type": "stream",
     "text": [
      "Train: Loss=0.0403 Batch_id=468 Accuracy=98.87: 100%|██████████| 469/469 [00:15<00:00, 31.12it/s]\n"
     ]
    },
    {
     "name": "stdout",
     "output_type": "stream",
     "text": [
      "Test set: Average loss: 0.0191, Accuracy: 9945/10000 (99.45%)\n",
      "\n",
      "Learning rate: 0.0025\n",
      "Epoch 15\n"
     ]
    },
    {
     "name": "stderr",
     "output_type": "stream",
     "text": [
      "Train: Loss=0.0424 Batch_id=468 Accuracy=98.87: 100%|██████████| 469/469 [00:13<00:00, 34.02it/s]\n"
     ]
    },
    {
     "name": "stdout",
     "output_type": "stream",
     "text": [
      "Test set: Average loss: 0.0193, Accuracy: 9937/10000 (99.37%)\n",
      "\n",
      "Learning rate: 0.0025\n"
     ]
    }
   ],
   "source": [
    "use_cuda = True\n",
    "device = torch.device(\"cuda\" if use_cuda else \"cpu\")\n",
    "model = Model3().to(device)\n",
    "optimizer = optim.SGD(model.parameters(), lr=0.01, momentum=0.9)\n",
    "scheduler = ReduceLROnPlateau(optimizer, mode='max', factor=0.5, patience=1, verbose=True)\n",
    "# New Line\n",
    "criterion = F.nll_loss\n",
    "num_epochs = 15\n",
    "\n",
    "for epoch in range(1, num_epochs+1):\n",
    "  print(f'Epoch {epoch}')\n",
    "  train(model, device, train_loader, optimizer, criterion)\n",
    "  test_acc = test(model, device, test_loader, criterion)\n",
    "  for param_group in optimizer.param_groups:\n",
    "    print(f'Learning rate: {param_group[\"lr\"]}')\n",
    "  scheduler.step(test_acc)\n"
   ]
  },
  {
   "cell_type": "markdown",
   "metadata": {},
   "source": [
    "CODE BLOCK: 9"
   ]
  },
  {
   "cell_type": "code",
   "execution_count": 14,
   "metadata": {},
   "outputs": [
    {
     "data": {
      "image/png": "[encoded data removed]",
      "text/plain": [
       "<Figure size 1500x1000 with 4 Axes>"
      ]
     },
     "metadata": {},
     "output_type": "display_data"
    }
   ],
   "source": [
    "from lib.utils import plot_training\n",
    "plot_training()"
   ]
  },
  {
   "cell_type": "code",
   "execution_count": 13,
   "metadata": {},
   "outputs": [
    {
     "name": "stdout",
     "output_type": "stream",
     "text": [
      "----------------------------------------------------------------\n",
      "        Layer (type)               Output Shape         Param #\n",
      "================================================================\n",
      "            Conv2d-1           [-1, 10, 26, 26]              90\n",
      "       BatchNorm2d-2           [-1, 10, 26, 26]              20\n",
      "              ReLU-3           [-1, 10, 26, 26]               0\n",
      "           Dropout-4           [-1, 10, 26, 26]               0\n",
      "            Conv2d-5           [-1, 12, 24, 24]           1,080\n",
      "       BatchNorm2d-6           [-1, 12, 24, 24]              24\n",
      "              ReLU-7           [-1, 12, 24, 24]               0\n",
      "           Dropout-8           [-1, 12, 24, 24]               0\n",
      "            Conv2d-9            [-1, 8, 24, 24]              96\n",
      "      BatchNorm2d-10            [-1, 8, 24, 24]              16\n",
      "             ReLU-11            [-1, 8, 24, 24]               0\n",
      "          Dropout-12            [-1, 8, 24, 24]               0\n",
      "        MaxPool2d-13            [-1, 8, 12, 12]               0\n",
      "           Conv2d-14           [-1, 12, 10, 10]             864\n",
      "      BatchNorm2d-15           [-1, 12, 10, 10]              24\n",
      "             ReLU-16           [-1, 12, 10, 10]               0\n",
      "          Dropout-17           [-1, 12, 10, 10]               0\n",
      "           Conv2d-18             [-1, 14, 8, 8]           1,512\n",
      "      BatchNorm2d-19             [-1, 14, 8, 8]              28\n",
      "             ReLU-20             [-1, 14, 8, 8]               0\n",
      "          Dropout-21             [-1, 14, 8, 8]               0\n",
      "           Conv2d-22             [-1, 14, 6, 6]           1,764\n",
      "      BatchNorm2d-23             [-1, 14, 6, 6]              28\n",
      "             ReLU-24             [-1, 14, 6, 6]               0\n",
      "          Dropout-25             [-1, 14, 6, 6]               0\n",
      "           Conv2d-26             [-1, 17, 4, 4]           2,142\n",
      "      BatchNorm2d-27             [-1, 17, 4, 4]              34\n",
      "             ReLU-28             [-1, 17, 4, 4]               0\n",
      "          Dropout-29             [-1, 17, 4, 4]               0\n",
      "           Conv2d-30             [-1, 10, 4, 4]             170\n",
      "        AvgPool2d-31             [-1, 10, 1, 1]               0\n",
      "================================================================\n",
      "Total params: 7,892\n",
      "Trainable params: 7,892\n",
      "Non-trainable params: 0\n",
      "----------------------------------------------------------------\n",
      "Input size (MB): 0.00\n",
      "Forward/backward pass size (MB): 0.66\n",
      "Params size (MB): 0.03\n",
      "Estimated Total Size (MB): 0.69\n",
      "----------------------------------------------------------------\n"
     ]
    }
   ],
   "source": [
    "model_summary(Model3())"
   ]
  },
  {
   "cell_type": "code",
   "execution_count": null,
   "metadata": {},
   "outputs": [],
   "source": []
  }
 ],
 "metadata": {
  "kernelspec": {
   "display_name": "Python 3",
   "language": "python",
   "name": "python3"
  },
  "language_info": {
   "codemirror_mode": {
    "name": "ipython",
    "version": 3
   },
   "file_extension": ".py",
   "mimetype": "text/x-python",
   "name": "python",
   "nbconvert_exporter": "python",
   "pygments_lexer": "ipython3",
   "version": "3.11.8"
  }
 },
 "nbformat": 4,
 "nbformat_minor": 2
}
